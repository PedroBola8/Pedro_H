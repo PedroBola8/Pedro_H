{
  "nbformat": 4,
  "nbformat_minor": 0,
  "metadata": {
    "colab": {
      "name": "Untitled0.ipynb",
      "provenance": [],
      "authorship_tag": "ABX9TyPROpmGipU3bO2Vk0IcuA9d",
      "include_colab_link": true
    },
    "kernelspec": {
      "name": "python3",
      "display_name": "Python 3"
    }
  },
  "cells": [
    {
      "cell_type": "markdown",
      "metadata": {
        "id": "view-in-github",
        "colab_type": "text"
      },
      "source": [
        "<a href=\"https://colab.research.google.com/github/PedroBola8/Pedro_H/blob/main/Untitled0.ipynb\" target=\"_parent\"><img src=\"https://colab.research.google.com/assets/colab-badge.svg\" alt=\"Open In Colab\"/></a>"
      ]
    },
    {
      "cell_type": "code",
      "metadata": {
        "id": "Q9oARpNS7GYn"
      },
      "source": [
        "# ETE PORTO DIGITAL\r\n",
        "# LPC 2021 - iNTRODUÇÃO Á PYTHON\r\n",
        "# PROF.CLOVES ROCHA\r\n",
        "# ESTUDANTE: PEDRO MOREIRA\r\n",
        "\r\n",
        "#VARIAVEIS\r\n",
        "\r\n",
        "P = O MEU 1° CÓDIGO\r\n",
        "PRINT (P)"
      ],
      "execution_count": null,
      "outputs": []
    }
  ]
}