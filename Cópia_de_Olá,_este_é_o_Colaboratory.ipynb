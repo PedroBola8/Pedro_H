{
  "nbformat": 4,
  "nbformat_minor": 0,
  "metadata": {
    "colab": {
      "name": "Cópia de Olá, este é o Colaboratory",
      "provenance": [],
      "collapsed_sections": [],
      "include_colab_link": true
    },
    "kernelspec": {
      "display_name": "Python 3",
      "name": "python3"
    }
  },
  "cells": [
    {
      "cell_type": "markdown",
      "metadata": {
        "id": "view-in-github",
        "colab_type": "text"
      },
      "source": [
        "<a href=\"https://colab.research.google.com/github/PedroBola8/Pedro_H/blob/main/C%C3%B3pia_de_Ol%C3%A1%2C_este_%C3%A9_o_Colaboratory.ipynb\" target=\"_parent\"><img src=\"https://colab.research.google.com/assets/colab-badge.svg\" alt=\"Open In Colab\"/></a>"
      ]
    },
    {
      "cell_type": "code",
      "metadata": {
        "colab": {
          "base_uri": "https://localhost:8080/"
        },
        "id": "FEj0bZOJN42M",
        "outputId": "d2f30810-1f12-4d01-b3ff-434997516a3f"
      },
      "source": [
        "#ETE PORTO DIGITAL\n",
        "#PROFESSOR: CLOVES ROCHA\n",
        "#DISCIPLINA: LPC\n",
        "#ALUNO: PEDRO HENRIQUE MOREIRA DE sANTANA\n",
        "#TURMA: 1°A\n",
        "\n",
        "#AT1=2°BIMESTRE\n",
        "\n",
        "\n",
        "n = 9;\n",
        "\n",
        "vet = [];\n",
        "\n",
        "for i in range(0, n, 1):\n",
        " vet.append(1+i);\n",
        "\n",
        "print(\"\\n O vet:\", end=\"\");\n",
        "print(vet);\n",
        "\n",
        "print(\"\\n Novamente o vet impresso de 2 modos: \");\n",
        "\n",
        "i = 0;\n",
        "\n",
        "\n",
        "for item in vet :\n",
        " print(\"(%2d, %2d)\" % (item, vet[i]), end=\"\");\n",
        " i += 1;\n",
        " print();"
      ],
      "execution_count": null,
      "outputs": [
        {
          "output_type": "stream",
          "text": [
            "\n",
            " O vet:[1, 2, 3, 4, 5, 6, 7, 8, 9]\n",
            "\n",
            " Novamente o vet impresso de 2 modos: \n",
            "( 1,  1)\n",
            "( 2,  2)\n",
            "( 3,  3)\n",
            "( 4,  4)\n",
            "( 5,  5)\n",
            "( 6,  6)\n",
            "( 7,  7)\n",
            "( 8,  8)\n",
            "( 9,  9)\n"
          ],
          "name": "stdout"
        }
      ]
    },
    {
      "cell_type": "code",
      "metadata": {
        "colab": {
          "base_uri": "https://localhost:8080/"
        },
        "id": "B6RvFQ2rU0xL",
        "outputId": "2d340f02-7340-409d-bc1b-bc6c993c0a97"
      },
      "source": [
        "n = 19;\n",
        "\n",
        "vet = [];\n",
        "\n",
        "for i in range(0, n, 1):\n",
        " vet.append(1+i);\n",
        "\n",
        "print(\"\\n O vet:\", end=\"\");\n",
        "print(vet);\n",
        "\n",
        "print(\"\\n Novamente o vet impresso de 2 modos: \");\n",
        "\n",
        "i = 0;\n",
        "\n",
        "\n",
        "for item in vet :\n",
        " print(\"(%2d, %2d)\" % (item, vet[i]), end=\"\");\n",
        " i += 1;\n",
        " print();\n",
        "\n",
        "lista = []\n",
        "qtn = input('informe a qt de numeros: ')\n",
        "\n",
        "for n in range(0,int(qtn)): \n",
        "    lista.append(int(input('Digite o número: ')))\n",
        "\n",
        "print ('Maior número da lista: ', max(lista))"
      ],
      "execution_count": null,
      "outputs": [
        {
          "output_type": "stream",
          "text": [
            "\n",
            " O vet:[1, 2, 3, 4, 5, 6, 7, 8, 9, 10, 11, 12, 13, 14, 15, 16, 17, 18, 19]\n",
            "\n",
            " Novamente o vet impresso de 2 modos: \n",
            "( 1,  1)\n",
            "( 2,  2)\n",
            "( 3,  3)\n",
            "( 4,  4)\n",
            "( 5,  5)\n",
            "( 6,  6)\n",
            "( 7,  7)\n",
            "( 8,  8)\n",
            "( 9,  9)\n",
            "(10, 10)\n",
            "(11, 11)\n",
            "(12, 12)\n",
            "(13, 13)\n",
            "(14, 14)\n",
            "(15, 15)\n",
            "(16, 16)\n",
            "(17, 17)\n",
            "(18, 18)\n",
            "(19, 19)\n",
            "informe a qt de numeros: 19\n",
            "Digite o número: 19\n",
            "Digite o número: 18\n",
            "Digite o número: 17\n",
            "Digite o número: 16\n",
            "Digite o número: 15\n",
            "Digite o número: 14\n",
            "Digite o número: 13\n",
            "Digite o número: 12\n",
            "Digite o número: 11\n",
            "Digite o número: 10\n",
            "Digite o número: 9\n",
            "Digite o número: 8\n",
            "Digite o número: 7\n",
            "Digite o número: 6\n",
            "Digite o número: 5\n",
            "Digite o número: 4\n",
            "Digite o número: 3\n",
            "Digite o número: 2\n",
            "Digite o número: 1\n",
            "Maior número da lista:  19\n"
          ],
          "name": "stdout"
        }
      ]
    },
    {
      "cell_type": "code",
      "metadata": {
        "colab": {
          "base_uri": "https://localhost:8080/"
        },
        "id": "CmtYCV63Xi1F",
        "outputId": "c251571d-208b-4e05-f718-9b7dc2b98c3c"
      },
      "source": [
        "n = 29;\n",
        "\n",
        "vet = [];\n",
        "\n",
        "for i in range(0, n, 1):\n",
        " vet.append(1+i);\n",
        "\n",
        "print(\"\\n O vet:\", end=\"\");\n",
        "print(vet);\n",
        "\n",
        "print(\"\\n Novamente o vet impresso de 2 modos: \");\n",
        "\n",
        "i = 0;\n",
        "\n",
        "\n",
        "for item in vet :\n",
        " print(\"(%2d, %2d)\" % (item, vet[i]), end=\"\");\n",
        " i += 1;\n",
        " print();\n",
        "\n",
        "s= 29\n",
        "\n",
        "n=29\n",
        "\n",
        "soma= s+n\n",
        "print(soma)\n",
        "\n",
        "maior= soma>s\n",
        "\n",
        "print(maior)\n"
      ],
      "execution_count": null,
      "outputs": [
        {
          "output_type": "stream",
          "text": [
            "\n",
            " O vet:[1, 2, 3, 4, 5, 6, 7, 8, 9, 10, 11, 12, 13, 14, 15, 16, 17, 18, 19, 20, 21, 22, 23, 24, 25, 26, 27, 28, 29]\n",
            "\n",
            " Novamente o vet impresso de 2 modos: \n",
            "( 1,  1)\n",
            "( 2,  2)\n",
            "( 3,  3)\n",
            "( 4,  4)\n",
            "( 5,  5)\n",
            "( 6,  6)\n",
            "( 7,  7)\n",
            "( 8,  8)\n",
            "( 9,  9)\n",
            "(10, 10)\n",
            "(11, 11)\n",
            "(12, 12)\n",
            "(13, 13)\n",
            "(14, 14)\n",
            "(15, 15)\n",
            "(16, 16)\n",
            "(17, 17)\n",
            "(18, 18)\n",
            "(19, 19)\n",
            "(20, 20)\n",
            "(21, 21)\n",
            "(22, 22)\n",
            "(23, 23)\n",
            "(24, 24)\n",
            "(25, 25)\n",
            "(26, 26)\n",
            "(27, 27)\n",
            "(28, 28)\n",
            "(29, 29)\n",
            "58\n",
            "True\n"
          ],
          "name": "stdout"
        }
      ]
    },
    {
      "cell_type": "code",
      "metadata": {
        "colab": {
          "base_uri": "https://localhost:8080/"
        },
        "id": "RFx7_CAdXi7l",
        "outputId": "536f4084-3030-4f0f-f9c2-4434d762032b"
      },
      "source": [
        "n = 14;\n",
        "\n",
        "vet = [];\n",
        "\n",
        "for i in range(0, n, 1):\n",
        " vet.append(1+i);\n",
        "\n",
        "print(\"\\n O vet:\", end=\"\");\n",
        "print(vet);\n",
        "\n",
        "print(\"\\n Novamente o vet impresso de 2 modos: \");\n",
        "\n",
        "i = 0;\n",
        "\n",
        "\n",
        "for item in vet :\n",
        " print(\"(%2d, %2d)\" % (item, vet[i]), end=\"\");\n",
        " i += 1;\n",
        " print();\n",
        "\n",
        "n=14\n",
        "\n",
        "resto=((n % 2 ))\n",
        "\n",
        "print(resto)"
      ],
      "execution_count": null,
      "outputs": [
        {
          "output_type": "stream",
          "text": [
            "\n",
            " O vet:[1, 2, 3, 4, 5, 6, 7, 8, 9, 10, 11, 12, 13, 14]\n",
            "\n",
            " Novamente o vet impresso de 2 modos: \n",
            "( 1,  1)\n",
            "( 2,  2)\n",
            "( 3,  3)\n",
            "( 4,  4)\n",
            "( 5,  5)\n",
            "( 6,  6)\n",
            "( 7,  7)\n",
            "( 8,  8)\n",
            "( 9,  9)\n",
            "(10, 10)\n",
            "(11, 11)\n",
            "(12, 12)\n",
            "(13, 13)\n",
            "(14, 14)\n",
            "0\n"
          ],
          "name": "stdout"
        }
      ]
    },
    {
      "cell_type": "code",
      "metadata": {
        "colab": {
          "base_uri": "https://localhost:8080/"
        },
        "id": "1TOprOl9Y-_6",
        "outputId": "9d3832c9-4539-477e-bc7a-16bd4a488f92"
      },
      "source": [
        "n = 9;\n",
        "\n",
        "vet = [];\n",
        "\n",
        "for i in range(0, n, 1):\n",
        " vet.append(1+i);\n",
        "\n",
        "print(\"\\n O vet:\", end=\"\");\n",
        "print(vet);\n",
        "\n",
        "print(\"\\n Novamente o vet impresso de 2 modos: \");\n",
        "\n",
        "i = 0;\n",
        "\n",
        "\n",
        "for item in vet :\n",
        " print(\"(%2d, %2d)\" % (item, vet[i]), end=\"\");\n",
        " i += 1;\n",
        " print();\n",
        "\n",
        "\n",
        "s=9\n",
        "n=9\n",
        "\n",
        "soma= s+n\n",
        "print(soma)\n",
        "        \n",
        "maior=soma>s\n",
        "print(maior)"
      ],
      "execution_count": 1,
      "outputs": [
        {
          "output_type": "stream",
          "text": [
            "\n",
            " O vet:[1, 2, 3, 4, 5, 6, 7, 8, 9]\n",
            "\n",
            " Novamente o vet impresso de 2 modos: \n",
            "( 1,  1)\n",
            "( 2,  2)\n",
            "( 3,  3)\n",
            "( 4,  4)\n",
            "( 5,  5)\n",
            "( 6,  6)\n",
            "( 7,  7)\n",
            "( 8,  8)\n",
            "( 9,  9)\n",
            "18\n",
            "True\n"
          ],
          "name": "stdout"
        }
      ]
    },
    {
      "cell_type": "code",
      "metadata": {
        "colab": {
          "base_uri": "https://localhost:8080/"
        },
        "id": "as-E2ZbVZ7OZ",
        "outputId": "072e9ccb-f87a-41a5-c6b6-2338018deadf"
      },
      "source": [
        "n = 9;\n",
        "\n",
        "vet = [];\n",
        "\n",
        "for i in range(0, n, 1):\n",
        " vet.append(1+i);\n",
        "\n",
        "print(\"\\n O vet:\", end=\"\");\n",
        "print(vet);\n",
        "\n",
        "print(\"\\n Novamente o vet impresso de 2 modos: \");\n",
        "\n",
        "i = 0;\n",
        "\n",
        "\n",
        "for item in vet :\n",
        " print(\"(%2d, %2d)\" % (item, vet[i]), end=\"\");\n",
        " i += 1;\n",
        " print();\n",
        "\n",
        "\n",
        "def __init__(vet):\n",
        "        vet.dados = []\n",
        " \n",
        "def empilha(vet):\n"
      ],
      "execution_count": 25,
      "outputs": [
        {
          "output_type": "stream",
          "text": [
            "\n",
            " O vet:[1, 2, 3, 4, 5, 6, 7, 8, 9]\n",
            "\n",
            " Novamente o vet impresso de 2 modos: \n",
            "( 1,  1)\n",
            "( 2,  2)\n",
            "( 3,  3)\n",
            "( 4,  4)\n",
            "( 5,  5)\n",
            "( 6,  6)\n",
            "( 7,  7)\n",
            "( 8,  8)\n",
            "( 9,  9)\n"
          ],
          "name": "stdout"
        }
      ]
    },
    {
      "cell_type": "code",
      "metadata": {
        "colab": {
          "base_uri": "https://localhost:8080/"
        },
        "id": "pQC9K5aDauJ3",
        "outputId": "94e07b76-6f18-41b5-a91b-e38663d8803f"
      },
      "source": [
        "n = 1;\n",
        "\n",
        "vet = [];\n",
        "\n",
        "for i in range(0, n, 1):\n",
        " vet.append(1+i);\n",
        "\n",
        "print(\"\\n O vet:\", end=\"\");\n",
        "print(vet);\n",
        "\n",
        "print(\"\\n Novamente o vet impresso de 2 modos: \");\n",
        "\n",
        "i = 0;\n",
        "\n",
        "\n",
        "for item in vet :\n",
        " print(\"(%2d, %2d)\" % (item, vet[i]), end=\"\");\n",
        " i += 1;\n",
        " print();\n",
        "\n",
        "\n",
        "n = 1;\n",
        "n <- vet.pop();\n",
        "\n",
        "        \n",
        "maior=soma>s\n",
        "print(maior)\n",
        "\n",
        "so=maior <- n;\n",
        "print(so)"
      ],
      "execution_count": 32,
      "outputs": [
        {
          "output_type": "stream",
          "text": [
            "\n",
            " O vet:[1]\n",
            "\n",
            " Novamente o vet impresso de 2 modos: \n",
            "( 1,  1)\n",
            "True\n",
            "False\n"
          ],
          "name": "stdout"
        }
      ]
    },
    {
      "cell_type": "code",
      "metadata": {
        "colab": {
          "base_uri": "https://localhost:8080/"
        },
        "id": "5mUcXYMZdfTO",
        "outputId": "aa1635d5-14f0-4714-8079-a87f47fdec26"
      },
      "source": [
        "n = 10;\n",
        "\n",
        "vet = [];\n",
        "\n",
        "for i in range(0, n, 1):\n",
        " vet.append(1+i);\n",
        "\n",
        "print(\"\\n O vet:\", end=\"\");\n",
        "print(vet);\n",
        "\n",
        "print(\"\\n Novamente o vet impresso de 2 modos: \");\n",
        "\n",
        "i = 0;\n",
        "\n",
        "\n",
        "for item in vet :\n",
        " print(\"(%2d, %2d)\" % (item, vet[i]), end=\"\");\n",
        " i += 1;\n",
        " print();\n",
        "\n",
        "\n",
        "n = 1;\n",
        "n <- vet.pop();\n",
        "\n",
        "        \n",
        "maior=soma>s\n",
        "print(maior)\n",
        "\n",
        "so=maior <- n;\n",
        "print(so)"
      ],
      "execution_count": 49,
      "outputs": [
        {
          "output_type": "stream",
          "text": [
            "\n",
            " O vet:[1, 2, 3, 4, 5, 6, 7, 8, 9, 10]\n",
            "\n",
            " Novamente o vet impresso de 2 modos: \n",
            "( 1,  1)\n",
            "( 2,  2)\n",
            "( 3,  3)\n",
            "( 4,  4)\n",
            "( 5,  5)\n",
            "( 6,  6)\n",
            "( 7,  7)\n",
            "( 8,  8)\n",
            "( 9,  9)\n",
            "(10, 10)\n",
            "False\n",
            "False\n"
          ],
          "name": "stdout"
        }
      ]
    },
    {
      "cell_type": "code",
      "metadata": {
        "colab": {
          "base_uri": "https://localhost:8080/"
        },
        "id": "w-exi3G8lsCI",
        "outputId": "d006b4d4-d604-47bf-c5c2-0d00e081db2d"
      },
      "source": [
        "n = 0;\n",
        "\n",
        "vet = [];\n",
        "\n",
        "for i in range(0, n, 1):\n",
        " vet.append(1+i);\n",
        "\n",
        "print(\"\\n O vet:\", end=\"\");\n",
        "print(vet);\n",
        "\n",
        "print(\"\\n Novamente o vet impresso de 2 modos: \");\n",
        "\n",
        "i = 0;\n",
        "\n",
        "\n",
        "for item in vet :\n",
        " print(\"(%2d, %2d)\" % (item, vet[i]), end=\"\");\n",
        " i += 1;\n",
        " print();\n",
        "\n",
        "\n",
        " n=0\n",
        "\n",
        "resto=((n % 2 ))\n",
        "\n",
        "print(resto)"
      ],
      "execution_count": 51,
      "outputs": [
        {
          "output_type": "stream",
          "text": [
            "\n",
            " O vet:[]\n",
            "\n",
            " Novamente o vet impresso de 2 modos: \n",
            "0\n"
          ],
          "name": "stdout"
        }
      ]
    }
  ]
}