{
  "nbformat": 4,
  "nbformat_minor": 0,
  "metadata": {
    "colab": {
      "name": "Olá, este é o Colaboratory",
      "provenance": [],
      "collapsed_sections": [],
      "include_colab_link": true
    },
    "kernelspec": {
      "display_name": "Python 3",
      "name": "python3"
    }
  },
  "cells": [
    {
      "cell_type": "markdown",
      "metadata": {
        "id": "view-in-github",
        "colab_type": "text"
      },
      "source": [
        "<a href=\"https://colab.research.google.com/github/PedroBola8/Pedro_H/blob/main/Ol%C3%A1%2C_este_%C3%A9_o_Colaboratory.ipynb\" target=\"_parent\"><img src=\"https://colab.research.google.com/assets/colab-badge.svg\" alt=\"Open In Colab\"/></a>"
      ]
    },
    {
      "cell_type": "code",
      "metadata": {
        "colab": {
          "base_uri": "https://localhost:8080/"
        },
        "id": "iAEwqjGE810N",
        "outputId": "2c62e3d3-a7b4-4393-bf1a-1e80d64cfa91"
      },
      "source": [
        "#ETE PORTO DIGITAL\n",
        "#PROFESSOR: CLOVES ROCHA\n",
        "#DISCIPLINA: LPC\n",
        "\n",
        "#AT1=2°BIMESTRE \n",
        "\n",
        "n = 9;\n",
        "\n",
        "\n",
        "vet = [];\n",
        "\n",
        "for i in range(0, n, 1):\n",
        "  vet.append(1+i);\n",
        "\n",
        "\n",
        "print(\"\\n O vet: \", end=\"\");\n",
        "print(vet);\n",
        "\n",
        "\n",
        "print(\"\\n Novamente o vet impresso de 2 modos: \"); \n",
        "i = 0;\n",
        "for item in vet : # \n",
        " print(\"(%2d, %2d) \" % (item, vet[i]), end=\"\");\n",
        " i += 1;\n",
        " print();\n",
        "\n",
        "\n",
        " \n",
        "\n"
      ],
      "execution_count": 144,
      "outputs": [
        {
          "output_type": "stream",
          "text": [
            "\n",
            " O vet: [1, 2, 3, 4, 5, 6, 7, 8, 9]\n",
            "\n",
            " Novamente o vet impresso de 2 modos: \n",
            "( 1,  1) \n",
            "( 2,  2) \n",
            "( 3,  3) \n",
            "( 4,  4) \n",
            "( 5,  5) \n",
            "( 6,  6) \n",
            "( 7,  7) \n",
            "( 8,  8) \n",
            "( 9,  9) \n"
          ],
          "name": "stdout"
        }
      ]
    },
    {
      "cell_type": "code",
      "metadata": {
        "colab": {
          "base_uri": "https://localhost:8080/"
        },
        "id": "ebCDx5blWP2P",
        "outputId": "6a06dcb4-7ed2-429f-943c-5945cf51da35"
      },
      "source": [
        "\n",
        "\n",
        "n = 19;\n",
        "\n",
        "\n",
        "vet = [];\n",
        "\n",
        "for i in range(0, n, 1):\n",
        "  vet.append(1+i);\n",
        "\n",
        "\n",
        "print(\"\\n O vet: \", end=\"\");\n",
        "print(vet);\n",
        "\n",
        "\n",
        "print(\"\\n Novamente o vet impresso de 2 modos: \"); \n",
        "i = 0;\n",
        "for item in vet : # \n",
        " print(\"(%2d, %2d) \" % (item, vet[i]), end=\"\");\n",
        " i += 1;\n",
        " print(); \n",
        "\n",
        "lista = []\n",
        "qtn = input(\"Quantos numeros tem?\")\n",
        "\n",
        "for n in range(0,int(qtn)): \n",
        "    lista.append(int(input('Digite o número do maior para o menor: ')))\n",
        "\n",
        "print ('Maior número da lista: ', max(lista))\n"
      ],
      "execution_count": 148,
      "outputs": [
        {
          "output_type": "stream",
          "text": [
            "\n",
            " O vet: [1, 2, 3, 4, 5, 6, 7, 8, 9, 10, 11, 12, 13, 14, 15, 16, 17, 18, 19]\n",
            "\n",
            " Novamente o vet impresso de 2 modos: \n",
            "( 1,  1) \n",
            "( 2,  2) \n",
            "( 3,  3) \n",
            "( 4,  4) \n",
            "( 5,  5) \n",
            "( 6,  6) \n",
            "( 7,  7) \n",
            "( 8,  8) \n",
            "( 9,  9) \n",
            "(10, 10) \n",
            "(11, 11) \n",
            "(12, 12) \n",
            "(13, 13) \n",
            "(14, 14) \n",
            "(15, 15) \n",
            "(16, 16) \n",
            "(17, 17) \n",
            "(18, 18) \n",
            "(19, 19) \n",
            "Quantos numeros tem?19\n",
            "Digite o número do maior para o menor: 19\n",
            "Digite o número do maior para o menor: 18\n",
            "Digite o número do maior para o menor: 17\n",
            "Digite o número do maior para o menor: 16\n",
            "Digite o número do maior para o menor: 15\n",
            "Digite o número do maior para o menor: 14\n",
            "Digite o número do maior para o menor: 13\n",
            "Digite o número do maior para o menor: 12\n",
            "Digite o número do maior para o menor: 11\n",
            "Digite o número do maior para o menor: 10\n",
            "Digite o número do maior para o menor: 9\n",
            "Digite o número do maior para o menor: 8\n",
            "Digite o número do maior para o menor: 7\n",
            "Digite o número do maior para o menor: 6\n",
            "Digite o número do maior para o menor: 5\n",
            "Digite o número do maior para o menor: 4\n",
            "Digite o número do maior para o menor: 3\n",
            "Digite o número do maior para o menor: 2\n",
            "Digite o número do maior para o menor: 1\n",
            "Maior número da lista:  19\n"
          ],
          "name": "stdout"
        }
      ]
    },
    {
      "cell_type": "code",
      "metadata": {
        "colab": {
          "base_uri": "https://localhost:8080/"
        },
        "id": "moUNSPccmMRL",
        "outputId": "6a13f58f-1454-4fd4-d370-59170ed50dd1"
      },
      "source": [
        "\n",
        "\n",
        "\n",
        "n = 29;\n",
        "\n",
        "\n",
        "vet = [];\n",
        "\n",
        "for i in range(0, n, 1):\n",
        "  vet.append(1+i);\n",
        "\n",
        "\n",
        "print(\"\\n O vet: \", end=\"\");\n",
        "print(vet);\n",
        "\n",
        "\n",
        "print(\"\\n Novamente o vet impresso de 2 modos: \"); \n",
        "i = 0;\n",
        "for item in vet : # \n",
        " print(\"(%2d, %2d) \" % (item, vet[i]), end=\"\");\n",
        " i += 1;\n",
        " print(); \n",
        "\n",
        "s= 29\n",
        "n=29\n",
        "soma= s+n\n",
        "print(soma)\n",
        "\n",
        "maior= soma>s\n",
        "print(maior)"
      ],
      "execution_count": 197,
      "outputs": [
        {
          "output_type": "stream",
          "text": [
            "\n",
            " O vet: [1, 2, 3, 4, 5, 6, 7, 8, 9, 10, 11, 12, 13, 14, 15, 16, 17, 18, 19, 20, 21, 22, 23, 24, 25, 26, 27, 28, 29]\n",
            "\n",
            " Novamente o vet impresso de 2 modos: \n",
            "( 1,  1) \n",
            "( 2,  2) \n",
            "( 3,  3) \n",
            "( 4,  4) \n",
            "( 5,  5) \n",
            "( 6,  6) \n",
            "( 7,  7) \n",
            "( 8,  8) \n",
            "( 9,  9) \n",
            "(10, 10) \n",
            "(11, 11) \n",
            "(12, 12) \n",
            "(13, 13) \n",
            "(14, 14) \n",
            "(15, 15) \n",
            "(16, 16) \n",
            "(17, 17) \n",
            "(18, 18) \n",
            "(19, 19) \n",
            "(20, 20) \n",
            "(21, 21) \n",
            "(22, 22) \n",
            "(23, 23) \n",
            "(24, 24) \n",
            "(25, 25) \n",
            "(26, 26) \n",
            "(27, 27) \n",
            "(28, 28) \n",
            "(29, 29) \n",
            "58\n",
            "True\n"
          ],
          "name": "stdout"
        }
      ]
    },
    {
      "cell_type": "code",
      "metadata": {
        "colab": {
          "base_uri": "https://localhost:8080/"
        },
        "id": "DmrEJrW1Vz5w",
        "outputId": "ae6da112-48bd-4a8e-d440-b37b09e7079e"
      },
      "source": [
        "n = 14;\n",
        "\n",
        "\n",
        "vet = [];\n",
        "\n",
        "for i in range(0, n, 1):\n",
        "  vet.append(1+i);\n",
        "\n",
        "\n",
        "print(\"\\n O vet: \", end=\"\");\n",
        "print(vet);\n",
        "\n",
        "\n",
        "print(\"\\n Novamente o vet impresso de 2 modos: \"); \n",
        "i = 0;\n",
        "for item in vet : # \n",
        " print(\"(%2d, %2d) \" % (item, vet[i]), end=\"\");\n",
        " i += 1;\n",
        " print(); \n",
        "\n",
        "n=14\n",
        "\n",
        "resto=((n % 2 ))\n",
        "print(resto)"
      ],
      "execution_count": 228,
      "outputs": [
        {
          "output_type": "stream",
          "text": [
            "\n",
            " O vet: [1, 2, 3, 4, 5, 6, 7, 8, 9, 10, 11, 12, 13, 14]\n",
            "\n",
            " Novamente o vet impresso de 2 modos: \n",
            "( 1,  1) \n",
            "( 2,  2) \n",
            "( 3,  3) \n",
            "( 4,  4) \n",
            "( 5,  5) \n",
            "( 6,  6) \n",
            "( 7,  7) \n",
            "( 8,  8) \n",
            "( 9,  9) \n",
            "(10, 10) \n",
            "(11, 11) \n",
            "(12, 12) \n",
            "(13, 13) \n",
            "(14, 14) \n",
            "0\n"
          ],
          "name": "stdout"
        }
      ]
    },
    {
      "cell_type": "code",
      "metadata": {
        "colab": {
          "base_uri": "https://localhost:8080/"
        },
        "id": "wrM-dmZEaUMq",
        "outputId": "451e9174-5c31-4c42-9ce7-2e76ba6f9a78"
      },
      "source": [
        "n = 9;\n",
        "\n",
        "\n",
        "vet = [];\n",
        "\n",
        "for i in range(0, n, 1):\n",
        "  vet.append(1+i);\n",
        "\n",
        "\n",
        "print(\"\\n O vet: \", end=\"\");\n",
        "print(vet);\n",
        "\n",
        "\n",
        "print(\"\\n Novamente o vet impresso de 2 modos: \"); \n",
        "i = 0;\n",
        "for item in vet : # \n",
        " print(\"(%2d, %2d) \" % (item, vet[i]), end=\"\");\n",
        " i += 1;\n",
        " print();\n",
        "\n",
        "maior= n>0\n",
        "print(maior)\n",
        "\n",
        "\n",
        "\n",
        "s= 9\n",
        "n=9\n",
        "soma= s+n\n",
        "print(soma)\n",
        "\n",
        "maior= soma>s\n",
        "print()"
      ],
      "execution_count": 233,
      "outputs": [
        {
          "output_type": "stream",
          "text": [
            "\n",
            " O vet: [1, 2, 3, 4, 5, 6, 7, 8, 9]\n",
            "\n",
            " Novamente o vet impresso de 2 modos: \n",
            "( 1,  1) \n",
            "( 2,  2) \n",
            "( 3,  3) \n",
            "( 4,  4) \n",
            "( 5,  5) \n",
            "( 6,  6) \n",
            "( 7,  7) \n",
            "( 8,  8) \n",
            "( 9,  9) \n",
            "True\n",
            "18\n",
            "\n"
          ],
          "name": "stdout"
        }
      ]
    }
  ]
}