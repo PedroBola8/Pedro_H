{
  "nbformat": 4,
  "nbformat_minor": 0,
  "metadata": {
    "colab": {
      "name": "Cópia de Olá, este é o Colaboratory",
      "provenance": [],
      "collapsed_sections": [],
      "include_colab_link": true
    },
    "kernelspec": {
      "display_name": "Python 3",
      "name": "python3"
    }
  },
  "cells": [
    {
      "cell_type": "markdown",
      "metadata": {
        "id": "view-in-github",
        "colab_type": "text"
      },
      "source": [
        "<a href=\"https://colab.research.google.com/github/PedroBola8/Pedro_H/blob/main/Ol%C3%A1%2C_este_%C3%A9_o_Colaboratory.ipynb\" target=\"_parent\"><img src=\"https://colab.research.google.com/assets/colab-badge.svg\" alt=\"Open In Colab\"/></a>"
      ]
    },
    {
      "cell_type": "code",
      "metadata": {
        "id": "NF23STkDoNc-",
        "colab": {
          "base_uri": "https://localhost:8080/"
        },
        "outputId": "a21c7b5e-daa5-40f1-e8a3-fca0361eedd0"
      },
      "source": [
        "# ETE PORTO DIGITAL\n",
        "# LPC 2021 - iNTRODUÇÃO Á PYTHON\n",
        "# PROF.CLOVES ROCHA\n",
        "# ESTUDANTE: PEDRO MOREIRA\n",
        "\n",
        "\n",
        "print(\"Olá ETE PORTO DIGITAL!\")\n",
        "\n",
        "\n",
        "\n"
      ],
      "execution_count": null,
      "outputs": [
        {
          "output_type": "stream",
          "text": [
            "Olá ETE PORTO DIGITAL!\n"
          ],
          "name": "stdout"
        }
      ]
    },
    {
      "cell_type": "code",
      "metadata": {
        "id": "qdq654pd1b8s",
        "colab": {
          "base_uri": "https://localhost:8080/"
        },
        "outputId": "c970b227-cbe7-4e6b-df14-228fa646586a"
      },
      "source": [
        "numero = int(input(\"digite um numero:\"))\n",
        "print(\"qual o numero escolhido:\",numero)"
      ],
      "execution_count": null,
      "outputs": [
        {
          "output_type": "stream",
          "text": [
            "digite um numero:8\n",
            "qual o numero escolhido: 8\n"
          ],
          "name": "stdout"
        }
      ]
    },
    {
      "cell_type": "code",
      "metadata": {
        "id": "htsNlL_9oHzq",
        "colab": {
          "base_uri": "https://localhost:8080/"
        },
        "outputId": "c0c354ec-454f-4ed9-98bc-d971c924a1ee"
      },
      "source": [
        "\n",
        "numero = int(input(\"escolha um valor:\"))\n",
        "numero2 = int(input(\"escolha um valor:\"))\n",
        "print(numero + numero2)\n",
        "\n",
        "\n",
        "\n",
        "\n",
        "\n"
      ],
      "execution_count": null,
      "outputs": [
        {
          "output_type": "stream",
          "text": [
            "escolha um valor:13\n",
            "escolha um valor:17\n",
            "30\n"
          ],
          "name": "stdout"
        }
      ]
    },
    {
      "cell_type": "code",
      "metadata": {
        "id": "O3FHGKlvvJg3",
        "colab": {
          "base_uri": "https://localhost:8080/"
        },
        "outputId": "dd415988-a75e-4a36-9f10-7f4dace1b124"
      },
      "source": [
        "nota1 = int(input(\"nota N1/At1:\"))\n",
        "nota2 = int(input(\"nota N1/At2:\"))\n",
        "nota3 = int(input(\"nota N1/AT3:\"))\n",
        "nota4 = int(input(\"nota prova:\"))\n",
        "media = ((nota1 + nota2 + nota3 + nota4 ) / 4)\n",
        "print(media)"
      ],
      "execution_count": null,
      "outputs": [
        {
          "output_type": "stream",
          "text": [
            "nota N1/At1:7\n",
            "nota N1/At2:8\n",
            "nota N1/AT3:8\n",
            "nota prova:7\n",
            "7.5\n"
          ],
          "name": "stdout"
        }
      ]
    },
    {
      "cell_type": "code",
      "metadata": {
        "id": "jmYlkrTf1stc",
        "colab": {
          "base_uri": "https://localhost:8080/"
        },
        "outputId": "8c3bd335-ae64-49f3-f73d-d5b3fbc8825c"
      },
      "source": [
        "valor = int(input(\"digite uma distancia qualquer em metros para transformar em centimetros:\")) \n",
        "print(valor * 100 )"
      ],
      "execution_count": null,
      "outputs": [
        {
          "output_type": "stream",
          "text": [
            "digite uma distancia qualquer em metros para transformar em centimetros:4\n",
            "400\n"
          ],
          "name": "stdout"
        }
      ]
    },
    {
      "cell_type": "code",
      "metadata": {
        "id": "-lTEiuuQk-EJ",
        "colab": {
          "base_uri": "https://localhost:8080/"
        },
        "outputId": "7a003bfa-7e67-4e0b-a9e5-e1bfad82e105"
      },
      "source": [
        "raio = float(input(\"digite raio do circulo para descobrir a area:\"))\n",
        "print(raio * raio * 3.14)\n"
      ],
      "execution_count": null,
      "outputs": [
        {
          "output_type": "stream",
          "text": [
            "digiteo raio do circulo para descobrir a area:4\n",
            "50.24\n"
          ],
          "name": "stdout"
        }
      ]
    },
    {
      "cell_type": "code",
      "metadata": {
        "id": "BQpLZN4vwl70",
        "colab": {
          "base_uri": "https://localhost:8080/"
        },
        "outputId": "31b4e8bb-96d8-4b4b-acbf-9a2c306633f3"
      },
      "source": [
        "lado = int(input(\"qual o valor do lado do quadrado:\"))\n",
        "print((lado ** 2) * 2)"
      ],
      "execution_count": null,
      "outputs": [
        {
          "output_type": "stream",
          "text": [
            "qual o valor do lado do quadrado:8\n",
            "128\n"
          ],
          "name": "stdout"
        }
      ]
    },
    {
      "cell_type": "code",
      "metadata": {
        "colab": {
          "base_uri": "https://localhost:8080/"
        },
        "id": "ueU7KqBxRgx5",
        "outputId": "d10e36f5-b0c0-4f44-bcb2-3c4bb564b428"
      },
      "source": [
        "salario = int(input(\"digite o valor do salário por hora:\")) \n",
        "horas = int(input(\"digite o quantitativo de horas por mês:\"))\n",
        "print(salario * horas)"
      ],
      "execution_count": null,
      "outputs": [
        {
          "output_type": "stream",
          "text": [
            "digite o valor do salário por hora:56\n",
            "digite o quantitativo de horas por mês:45\n",
            "2520\n"
          ],
          "name": "stdout"
        }
      ]
    },
    {
      "cell_type": "code",
      "metadata": {
        "colab": {
          "base_uri": "https://localhost:8080/"
        },
        "id": "bFalgRBFQfMo",
        "outputId": "4ff63fff-7695-44ce-f311-76ff190dfb3a"
      },
      "source": [
        "numero = int(input(\"digite um valor:\"))\n",
        "if numero < 0:\n",
        " print (\"O numero é negativo\")\n",
        "else:\n",
        "    print (\"O numero é positivo\")\n"
      ],
      "execution_count": null,
      "outputs": [
        {
          "output_type": "stream",
          "text": [
            "digite um valor:15\n",
            "O numero é positivo\n"
          ],
          "name": "stdout"
        }
      ]
    },
    {
      "cell_type": "code",
      "metadata": {
        "colab": {
          "base_uri": "https://localhost:8080/"
        },
        "id": "ZC0Jh0uRkrfI",
        "outputId": "2ee37208-cc0b-490a-d0be-8173f5879f9e"
      },
      "source": [
        "letra = input(\"digite a letra para o sexo: F, M, O:\")\n",
        "if letra == \"F\":\n",
        "  print(\"feminimo\")\n",
        "elif letra == \"M\":\n",
        "  print(\"masculino\")\n",
        "elif letra == \"O\":\n",
        " print(\"Outros\")\n",
        "else:\n",
        "  print(\"sexo invalido\")\n"
      ],
      "execution_count": null,
      "outputs": [
        {
          "output_type": "stream",
          "text": [
            "digite a letra para o sexo: F, M, O:M\n",
            "masculino\n"
          ],
          "name": "stdout"
        }
      ]
    }
  ]
}